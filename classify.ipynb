{
  "nbformat": 4,
  "nbformat_minor": 0,
  "metadata": {
    "colab": {
      "provenance": [],
      "include_colab_link": true
    },
    "kernelspec": {
      "name": "python3",
      "display_name": "Python 3"
    },
    "accelerator": "GPU"
  },
  "cells": [
    {
      "cell_type": "markdown",
      "metadata": {
        "id": "view-in-github",
        "colab_type": "text"
      },
      "source": [
        "<a href=\"https://colab.research.google.com/github/anudeepdv/ActionBar_android/blob/master/classify.ipynb\" target=\"_parent\"><img src=\"https://colab.research.google.com/assets/colab-badge.svg\" alt=\"Open In Colab\"/></a>"
      ]
    },
    {
      "cell_type": "markdown",
      "metadata": {
        "id": "gbwF0CWA1hVA"
      },
      "source": [
        "Classification!\n"
      ]
    },
    {
      "cell_type": "code",
      "metadata": {
        "id": "X3poIdKr0IPJ",
        "outputId": "c6f54a10-5b2a-4950-e038-a2a18df659b7",
        "colab": {
          "base_uri": "https://localhost:8080/",
          "height": 124
        }
      },
      "source": [
        "\n",
        "from google.colab import drive\n",
        "drive.mount(\"/content/drive\")\n"
      ],
      "execution_count": null,
      "outputs": [
        {
          "output_type": "stream",
          "text": [
            "Go to this URL in a browser: https://accounts.google.com/o/oauth2/auth?client_id=947318989803-6bn6qk8qdgf4n4g3pfee6491hc0brc4i.apps.googleusercontent.com&redirect_uri=urn%3aietf%3awg%3aoauth%3a2.0%3aoob&response_type=code&scope=email%20https%3a%2f%2fwww.googleapis.com%2fauth%2fdocs.test%20https%3a%2f%2fwww.googleapis.com%2fauth%2fdrive%20https%3a%2f%2fwww.googleapis.com%2fauth%2fdrive.photos.readonly%20https%3a%2f%2fwww.googleapis.com%2fauth%2fpeopleapi.readonly\n",
            "\n",
            "Enter your authorization code:\n",
            "··········\n",
            "Mounted at /content/drive\n"
          ],
          "name": "stdout"
        }
      ]
    },
    {
      "cell_type": "code",
      "metadata": {
        "id": "vZ6mlChb1fsI",
        "outputId": "7c40d417-5d9a-4aef-ce39-beb75dac69c3",
        "colab": {
          "base_uri": "https://localhost:8080/"
        }
      },
      "source": [
        "import keras.utils as image\n",
        "from keras.models import Sequential\n",
        "from keras.layers import Conv2D, MaxPooling2D\n",
        "from keras.layers import Activation, Dropout, Flatten, Dense\n",
        "from keras import backend as K\n",
        "from google.colab import drive\n",
        "from keras.utils import load_img, img_to_array\n",
        "import numpy\n",
        "\n",
        "# dimensions of our images.\n",
        "img_width, img_height = 150, 150\n",
        "\n",
        "\n",
        "if K.image_data_format() == 'channels_first':\n",
        "    input_shape = (3, img_width, img_height)\n",
        "else:\n",
        "    input_shape = (img_width, img_height, 3)\n",
        "    \n",
        "    \n",
        "\n",
        "\n",
        "model = Sequential()\n",
        "model.add(Conv2D(32, (3, 3), input_shape=input_shape))\n",
        "model.add(Activation('relu'))\n",
        "model.add(MaxPooling2D(pool_size=(2, 2)))\n",
        "\n",
        "model.add(Conv2D(32, (3, 3)))\n",
        "model.add(Activation('relu'))\n",
        "model.add(MaxPooling2D(pool_size=(2, 2)))\n",
        "\n",
        "model.add(Conv2D(64, (3, 3)))\n",
        "model.add(Activation('relu'))\n",
        "model.add(MaxPooling2D(pool_size=(2, 2)))\n",
        "\n",
        "model.add(Flatten())\n",
        "model.add(Dense(64))\n",
        "model.add(Activation('relu'))\n",
        "model.add(Dropout(0.5))\n",
        "model.add(Dense(1))\n",
        "model.add(Activation('sigmoid'))\n",
        "model.compile(loss='binary_crossentropy',\n",
        "              optimizer='rmsprop',\n",
        "              metrics=['accuracy'])\n",
        "\n",
        "#from keras.models import load_model\n",
        "model.load_weights('/content/drive/My Drive/Colab Notebooks/cats-vs-dogs/weights.h5')\n",
        "\n",
        "\n",
        "\n",
        "import keras.utils as image\n",
        "\n",
        "\n",
        "\n",
        "myPic = '/content/drive/My Drive/Colab Notebooks/cats-vs-dogs/data/live/what1.jpeg'\n",
        "test_image= image.load_img(myPic, target_size = (img_width, img_height)) \n",
        "test_image = image.img_to_array(test_image)\n",
        "test_image = test_image.reshape(input_shape)\n",
        "test_image = numpy.expand_dims(test_image, axis = 0)\n",
        "result = model.predict(test_image,verbose=0)  \n",
        "print(result[0][0])\n",
        "\n",
        "myPic2 = '/content/drive/My Drive/Colab Notebooks/cats-vs-dogs/data/live/what2.jpeg'\n",
        "#myPic2 = '/content/drive/My Drive/Colab Notebooks/cats-vs-dogs/data/live/corgi.jpg'\n",
        "test_image2= image.load_img(myPic2, target_size = (img_width, img_height)) \n",
        "test_image2 = image.img_to_array(test_image2)\n",
        "test_image2 = test_image2.reshape(input_shape)\n",
        "test_image2 = numpy.expand_dims(test_image2, axis = 0)\n",
        "result = model.predict(test_image2,verbose=0)  \n",
        "print(result[0][0])\n",
        "\n"
      ],
      "execution_count": 15,
      "outputs": [
        {
          "output_type": "stream",
          "name": "stdout",
          "text": [
            "0.0\n",
            "1.0\n"
          ]
        }
      ]
    },
    {
      "cell_type": "code",
      "metadata": {
        "id": "VBfCNs9q4I48"
      },
      "source": [],
      "execution_count": null,
      "outputs": []
    }
  ]
}